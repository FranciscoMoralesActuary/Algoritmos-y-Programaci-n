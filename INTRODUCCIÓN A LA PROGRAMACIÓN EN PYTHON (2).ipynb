{
 "cells": [
  {
   "cell_type": "markdown",
   "id": "98603acb",
   "metadata": {},
   "source": [
    "# Tipos de datos en Python"
   ]
  },
  {
   "cell_type": "markdown",
   "id": "5a7fa70d",
   "metadata": {},
   "source": [
    "## Números"
   ]
  },
  {
   "cell_type": "markdown",
   "id": "92ca8530",
   "metadata": {},
   "source": [
    "## Entero"
   ]
  },
  {
   "cell_type": "code",
   "execution_count": 1,
   "id": "4c61e77c",
   "metadata": {
    "ExecuteTime": {
     "end_time": "2021-11-11T02:13:12.470245Z",
     "start_time": "2021-11-11T02:13:12.435417Z"
    }
   },
   "outputs": [
    {
     "data": {
      "text/plain": [
       "1"
      ]
     },
     "execution_count": 1,
     "metadata": {},
     "output_type": "execute_result"
    }
   ],
   "source": [
    "1"
   ]
  },
  {
   "cell_type": "code",
   "execution_count": 2,
   "id": "54003a8d",
   "metadata": {
    "ExecuteTime": {
     "end_time": "2021-11-11T02:13:13.190107Z",
     "start_time": "2021-11-11T02:13:13.165067Z"
    }
   },
   "outputs": [
    {
     "data": {
      "text/plain": [
       "2"
      ]
     },
     "execution_count": 2,
     "metadata": {},
     "output_type": "execute_result"
    }
   ],
   "source": [
    "2"
   ]
  },
  {
   "cell_type": "code",
   "execution_count": 3,
   "id": "9cc9533a",
   "metadata": {
    "ExecuteTime": {
     "end_time": "2021-11-11T02:13:32.210607Z",
     "start_time": "2021-11-11T02:13:32.190202Z"
    }
   },
   "outputs": [
    {
     "data": {
      "text/plain": [
       "int"
      ]
     },
     "execution_count": 3,
     "metadata": {},
     "output_type": "execute_result"
    }
   ],
   "source": [
    "type(2)"
   ]
  },
  {
   "cell_type": "markdown",
   "id": "33989074",
   "metadata": {},
   "source": [
    "### Declaración de variables"
   ]
  },
  {
   "cell_type": "code",
   "execution_count": 7,
   "id": "b572e364",
   "metadata": {
    "ExecuteTime": {
     "end_time": "2021-11-11T02:14:24.540081Z",
     "start_time": "2021-11-11T02:14:24.519849Z"
    }
   },
   "outputs": [],
   "source": [
    "var = 10   "
   ]
  },
  {
   "cell_type": "code",
   "execution_count": 8,
   "id": "4f926167",
   "metadata": {
    "ExecuteTime": {
     "end_time": "2021-11-11T02:14:35.445246Z",
     "start_time": "2021-11-11T02:14:35.437079Z"
    }
   },
   "outputs": [],
   "source": [
    "var = \"Hola\""
   ]
  },
  {
   "cell_type": "code",
   "execution_count": 9,
   "id": "68736df4",
   "metadata": {
    "ExecuteTime": {
     "end_time": "2021-11-11T02:14:41.216518Z",
     "start_time": "2021-11-11T02:14:41.202987Z"
    }
   },
   "outputs": [
    {
     "data": {
      "text/plain": [
       "str"
      ]
     },
     "execution_count": 9,
     "metadata": {},
     "output_type": "execute_result"
    }
   ],
   "source": [
    "type(var)"
   ]
  },
  {
   "cell_type": "code",
   "execution_count": 7,
   "id": "20087a81",
   "metadata": {
    "ExecuteTime": {
     "end_time": "2021-11-10T00:55:33.136462Z",
     "start_time": "2021-11-10T00:55:33.123425Z"
    }
   },
   "outputs": [],
   "source": [
    "a = 10\n",
    "b = 20"
   ]
  },
  {
   "cell_type": "code",
   "execution_count": 8,
   "id": "abf746c6",
   "metadata": {
    "ExecuteTime": {
     "end_time": "2021-11-10T00:55:39.486236Z",
     "start_time": "2021-11-10T00:55:39.481047Z"
    }
   },
   "outputs": [
    {
     "data": {
      "text/plain": [
       "int"
      ]
     },
     "execution_count": 8,
     "metadata": {},
     "output_type": "execute_result"
    }
   ],
   "source": [
    "type(a)"
   ]
  },
  {
   "cell_type": "code",
   "execution_count": 9,
   "id": "c660fe71",
   "metadata": {
    "ExecuteTime": {
     "end_time": "2021-11-10T00:55:44.538789Z",
     "start_time": "2021-11-10T00:55:44.522406Z"
    }
   },
   "outputs": [
    {
     "data": {
      "text/plain": [
       "int"
      ]
     },
     "execution_count": 9,
     "metadata": {},
     "output_type": "execute_result"
    }
   ],
   "source": [
    "type(b)"
   ]
  },
  {
   "cell_type": "code",
   "execution_count": 10,
   "id": "61049941",
   "metadata": {
    "ExecuteTime": {
     "end_time": "2021-11-10T00:55:49.019486Z",
     "start_time": "2021-11-10T00:55:49.008157Z"
    }
   },
   "outputs": [
    {
     "data": {
      "text/plain": [
       "30"
      ]
     },
     "execution_count": 10,
     "metadata": {},
     "output_type": "execute_result"
    }
   ],
   "source": [
    "a+b"
   ]
  },
  {
   "cell_type": "markdown",
   "id": "1ffe3500",
   "metadata": {},
   "source": [
    "## Flotantes"
   ]
  },
  {
   "cell_type": "code",
   "execution_count": 11,
   "id": "7c70bddf",
   "metadata": {
    "ExecuteTime": {
     "end_time": "2021-11-10T00:56:32.895939Z",
     "start_time": "2021-11-10T00:56:32.876341Z"
    }
   },
   "outputs": [
    {
     "data": {
      "text/plain": [
       "10.4"
      ]
     },
     "execution_count": 11,
     "metadata": {},
     "output_type": "execute_result"
    }
   ],
   "source": [
    "10.4"
   ]
  },
  {
   "cell_type": "code",
   "execution_count": 12,
   "id": "9ed3c7ba",
   "metadata": {
    "ExecuteTime": {
     "end_time": "2021-11-10T00:56:38.881035Z",
     "start_time": "2021-11-10T00:56:38.873776Z"
    }
   },
   "outputs": [
    {
     "data": {
      "text/plain": [
       "float"
      ]
     },
     "execution_count": 12,
     "metadata": {},
     "output_type": "execute_result"
    }
   ],
   "source": [
    "type(10.4)"
   ]
  },
  {
   "cell_type": "code",
   "execution_count": 10,
   "id": "df14760c",
   "metadata": {
    "ExecuteTime": {
     "end_time": "2021-11-11T02:15:43.475684Z",
     "start_time": "2021-11-11T02:15:43.458982Z"
    }
   },
   "outputs": [],
   "source": [
    "c = 10.5"
   ]
  },
  {
   "cell_type": "code",
   "execution_count": 11,
   "id": "ab0e9b31",
   "metadata": {
    "ExecuteTime": {
     "end_time": "2021-11-11T02:15:43.725003Z",
     "start_time": "2021-11-11T02:15:43.708765Z"
    }
   },
   "outputs": [
    {
     "data": {
      "text/plain": [
       "10.5"
      ]
     },
     "execution_count": 11,
     "metadata": {},
     "output_type": "execute_result"
    }
   ],
   "source": [
    "c"
   ]
  },
  {
   "cell_type": "code",
   "execution_count": 12,
   "id": "0473f269",
   "metadata": {
    "ExecuteTime": {
     "end_time": "2021-11-11T02:15:49.382947Z",
     "start_time": "2021-11-11T02:15:49.366737Z"
    }
   },
   "outputs": [
    {
     "data": {
      "text/plain": [
       "float"
      ]
     },
     "execution_count": 12,
     "metadata": {},
     "output_type": "execute_result"
    }
   ],
   "source": [
    "type(c)"
   ]
  },
  {
   "cell_type": "markdown",
   "id": "7eb7745b",
   "metadata": {},
   "source": [
    "## Complejos"
   ]
  },
  {
   "cell_type": "markdown",
   "id": "fea693fd",
   "metadata": {},
   "source": [
    "$$ \\mathbb{C} =  \\left \\{a+bi | a,b \\in \\mathbb{R} \\wedge i = \\sqrt{-1} \\right \\}  $$\n"
   ]
  },
  {
   "cell_type": "code",
   "execution_count": 13,
   "id": "e009de9e",
   "metadata": {
    "ExecuteTime": {
     "end_time": "2021-11-11T02:16:46.040285Z",
     "start_time": "2021-11-11T02:16:46.029771Z"
    }
   },
   "outputs": [],
   "source": [
    "cl = 4 + 3j"
   ]
  },
  {
   "cell_type": "code",
   "execution_count": 14,
   "id": "31d38dee",
   "metadata": {
    "ExecuteTime": {
     "end_time": "2021-11-11T02:16:46.660114Z",
     "start_time": "2021-11-11T02:16:46.629568Z"
    }
   },
   "outputs": [
    {
     "data": {
      "text/plain": [
       "(4+3j)"
      ]
     },
     "execution_count": 14,
     "metadata": {},
     "output_type": "execute_result"
    }
   ],
   "source": [
    "cl"
   ]
  },
  {
   "cell_type": "code",
   "execution_count": 18,
   "id": "6cd39c19",
   "metadata": {
    "ExecuteTime": {
     "end_time": "2021-11-10T01:02:07.992809Z",
     "start_time": "2021-11-10T01:02:07.976022Z"
    }
   },
   "outputs": [
    {
     "data": {
      "text/plain": [
       "complex"
      ]
     },
     "execution_count": 18,
     "metadata": {},
     "output_type": "execute_result"
    }
   ],
   "source": [
    "type(cl)"
   ]
  },
  {
   "cell_type": "markdown",
   "id": "9ae9f278",
   "metadata": {},
   "source": [
    "## Cadenas (Strings)"
   ]
  },
  {
   "cell_type": "code",
   "execution_count": 15,
   "id": "6deb5a0d",
   "metadata": {
    "ExecuteTime": {
     "end_time": "2021-11-11T02:17:18.384056Z",
     "start_time": "2021-11-11T02:17:18.359715Z"
    }
   },
   "outputs": [
    {
     "data": {
      "text/plain": [
       "'Hola AyP'"
      ]
     },
     "execution_count": 15,
     "metadata": {},
     "output_type": "execute_result"
    }
   ],
   "source": [
    "\"Hola AyP\""
   ]
  },
  {
   "cell_type": "code",
   "execution_count": 16,
   "id": "0d3477cd",
   "metadata": {
    "ExecuteTime": {
     "end_time": "2021-11-11T02:17:26.935979Z",
     "start_time": "2021-11-11T02:17:26.912769Z"
    }
   },
   "outputs": [],
   "source": [
    "st = \"Hola AyP\""
   ]
  },
  {
   "cell_type": "code",
   "execution_count": 17,
   "id": "85ba0d59",
   "metadata": {
    "ExecuteTime": {
     "end_time": "2021-11-11T02:17:30.501863Z",
     "start_time": "2021-11-11T02:17:30.478546Z"
    }
   },
   "outputs": [
    {
     "data": {
      "text/plain": [
       "'Hola AyP'"
      ]
     },
     "execution_count": 17,
     "metadata": {},
     "output_type": "execute_result"
    }
   ],
   "source": [
    "st"
   ]
  },
  {
   "cell_type": "code",
   "execution_count": 18,
   "id": "5c5d7e32",
   "metadata": {
    "ExecuteTime": {
     "end_time": "2021-11-11T02:17:35.235963Z",
     "start_time": "2021-11-11T02:17:35.219554Z"
    }
   },
   "outputs": [
    {
     "data": {
      "text/plain": [
       "str"
      ]
     },
     "execution_count": 18,
     "metadata": {},
     "output_type": "execute_result"
    }
   ],
   "source": [
    "type(st)"
   ]
  },
  {
   "cell_type": "code",
   "execution_count": 19,
   "id": "5677d857",
   "metadata": {
    "ExecuteTime": {
     "end_time": "2021-11-11T02:17:45.691987Z",
     "start_time": "2021-11-11T02:17:45.677057Z"
    }
   },
   "outputs": [
    {
     "data": {
      "text/plain": [
       "'HolaAyp'"
      ]
     },
     "execution_count": 19,
     "metadata": {},
     "output_type": "execute_result"
    }
   ],
   "source": [
    "\"Hola\" + \"Ayp\""
   ]
  },
  {
   "cell_type": "code",
   "execution_count": 20,
   "id": "e34873ba",
   "metadata": {
    "ExecuteTime": {
     "end_time": "2021-11-11T02:18:10.829823Z",
     "start_time": "2021-11-11T02:18:10.399631Z"
    }
   },
   "outputs": [
    {
     "ename": "TypeError",
     "evalue": "unsupported operand type(s) for -: 'str' and 'str'",
     "output_type": "error",
     "traceback": [
      "\u001b[1;31m---------------------------------------------------------------------------\u001b[0m",
      "\u001b[1;31mTypeError\u001b[0m                                 Traceback (most recent call last)",
      "\u001b[1;32m~\\AppData\\Local\\Temp/ipykernel_15848/503270893.py\u001b[0m in \u001b[0;36m<module>\u001b[1;34m\u001b[0m\n\u001b[1;32m----> 1\u001b[1;33m \u001b[1;34m\"Hola\"\u001b[0m \u001b[1;33m-\u001b[0m \u001b[1;34m\"a\"\u001b[0m\u001b[1;33m\u001b[0m\u001b[1;33m\u001b[0m\u001b[0m\n\u001b[0m",
      "\u001b[1;31mTypeError\u001b[0m: unsupported operand type(s) for -: 'str' and 'str'"
     ]
    }
   ],
   "source": [
    "\"Hola\" - \"a\""
   ]
  },
  {
   "cell_type": "code",
   "execution_count": 21,
   "id": "65e83e26",
   "metadata": {
    "ExecuteTime": {
     "end_time": "2021-11-11T02:18:34.539662Z",
     "start_time": "2021-11-11T02:18:34.527183Z"
    }
   },
   "outputs": [
    {
     "data": {
      "text/plain": [
       "'Hola Hola Hola '"
      ]
     },
     "execution_count": 21,
     "metadata": {},
     "output_type": "execute_result"
    }
   ],
   "source": [
    "\"Hola \"*3"
   ]
  },
  {
   "cell_type": "markdown",
   "id": "a24d2396",
   "metadata": {},
   "source": [
    "## Booleans"
   ]
  },
  {
   "cell_type": "code",
   "execution_count": 22,
   "id": "ef37eab9",
   "metadata": {
    "ExecuteTime": {
     "end_time": "2021-11-11T02:18:50.088910Z",
     "start_time": "2021-11-11T02:18:50.060438Z"
    }
   },
   "outputs": [
    {
     "data": {
      "text/plain": [
       "True"
      ]
     },
     "execution_count": 22,
     "metadata": {},
     "output_type": "execute_result"
    }
   ],
   "source": [
    "True"
   ]
  },
  {
   "cell_type": "code",
   "execution_count": 23,
   "id": "4c1d6af4",
   "metadata": {
    "ExecuteTime": {
     "end_time": "2021-11-11T02:18:50.648252Z",
     "start_time": "2021-11-11T02:18:50.624347Z"
    }
   },
   "outputs": [
    {
     "data": {
      "text/plain": [
       "False"
      ]
     },
     "execution_count": 23,
     "metadata": {},
     "output_type": "execute_result"
    }
   ],
   "source": [
    "False"
   ]
  },
  {
   "cell_type": "code",
   "execution_count": 24,
   "id": "f9abf94c",
   "metadata": {
    "ExecuteTime": {
     "end_time": "2021-11-11T02:18:56.987697Z",
     "start_time": "2021-11-11T02:18:56.972561Z"
    }
   },
   "outputs": [],
   "source": [
    "bol = True"
   ]
  },
  {
   "cell_type": "code",
   "execution_count": 25,
   "id": "1edeea3c",
   "metadata": {
    "ExecuteTime": {
     "end_time": "2021-11-11T02:19:01.057277Z",
     "start_time": "2021-11-11T02:19:01.043483Z"
    }
   },
   "outputs": [
    {
     "data": {
      "text/plain": [
       "bool"
      ]
     },
     "execution_count": 25,
     "metadata": {},
     "output_type": "execute_result"
    }
   ],
   "source": [
    "type(bol)"
   ]
  },
  {
   "cell_type": "code",
   "execution_count": 26,
   "id": "e4a6c5cb",
   "metadata": {
    "ExecuteTime": {
     "end_time": "2021-11-11T02:19:17.814932Z",
     "start_time": "2021-11-11T02:19:17.784485Z"
    }
   },
   "outputs": [
    {
     "data": {
      "text/plain": [
       "2"
      ]
     },
     "execution_count": 26,
     "metadata": {},
     "output_type": "execute_result"
    }
   ],
   "source": [
    "True + True"
   ]
  },
  {
   "cell_type": "code",
   "execution_count": 27,
   "id": "3024f10b",
   "metadata": {
    "ExecuteTime": {
     "end_time": "2021-11-11T02:19:21.899209Z",
     "start_time": "2021-11-11T02:19:21.872281Z"
    }
   },
   "outputs": [
    {
     "data": {
      "text/plain": [
       "0"
      ]
     },
     "execution_count": 27,
     "metadata": {},
     "output_type": "execute_result"
    }
   ],
   "source": [
    "False + False"
   ]
  },
  {
   "cell_type": "markdown",
   "id": "c98bcdc5",
   "metadata": {},
   "source": [
    "## Conversiones de datos"
   ]
  },
  {
   "cell_type": "markdown",
   "id": "e13b94af",
   "metadata": {},
   "source": [
    "### String a entero, flotante o complejo"
   ]
  },
  {
   "cell_type": "code",
   "execution_count": 28,
   "id": "d530caab",
   "metadata": {
    "ExecuteTime": {
     "end_time": "2021-11-11T02:19:47.728376Z",
     "start_time": "2021-11-11T02:19:47.699594Z"
    }
   },
   "outputs": [
    {
     "data": {
      "text/plain": [
       "'12'"
      ]
     },
     "execution_count": 28,
     "metadata": {},
     "output_type": "execute_result"
    }
   ],
   "source": [
    "num1 = '12'\n",
    "num1"
   ]
  },
  {
   "cell_type": "code",
   "execution_count": 29,
   "id": "c53b8690",
   "metadata": {
    "ExecuteTime": {
     "end_time": "2021-11-11T02:19:59.154612Z",
     "start_time": "2021-11-11T02:19:59.129434Z"
    }
   },
   "outputs": [
    {
     "data": {
      "text/plain": [
       "str"
      ]
     },
     "execution_count": 29,
     "metadata": {},
     "output_type": "execute_result"
    }
   ],
   "source": [
    "type(num1)"
   ]
  },
  {
   "cell_type": "code",
   "execution_count": 30,
   "id": "e4a941f7",
   "metadata": {
    "ExecuteTime": {
     "end_time": "2021-11-11T02:20:19.252944Z",
     "start_time": "2021-11-11T02:20:19.228077Z"
    }
   },
   "outputs": [],
   "source": [
    "num2 = int(num1)"
   ]
  },
  {
   "cell_type": "code",
   "execution_count": 31,
   "id": "d4bb7c17",
   "metadata": {
    "ExecuteTime": {
     "end_time": "2021-11-11T02:20:25.440457Z",
     "start_time": "2021-11-11T02:20:25.416352Z"
    }
   },
   "outputs": [
    {
     "data": {
      "text/plain": [
       "int"
      ]
     },
     "execution_count": 31,
     "metadata": {},
     "output_type": "execute_result"
    }
   ],
   "source": [
    "type(num2)"
   ]
  },
  {
   "cell_type": "code",
   "execution_count": 32,
   "id": "dbe355e9",
   "metadata": {
    "ExecuteTime": {
     "end_time": "2021-11-11T02:20:37.499485Z",
     "start_time": "2021-11-11T02:20:37.492195Z"
    }
   },
   "outputs": [],
   "source": [
    "num3 = float(num1)"
   ]
  },
  {
   "cell_type": "code",
   "execution_count": 33,
   "id": "4cc4506d",
   "metadata": {
    "ExecuteTime": {
     "end_time": "2021-11-11T02:20:37.977598Z",
     "start_time": "2021-11-11T02:20:37.969218Z"
    }
   },
   "outputs": [
    {
     "data": {
      "text/plain": [
       "float"
      ]
     },
     "execution_count": 33,
     "metadata": {},
     "output_type": "execute_result"
    }
   ],
   "source": [
    "type(num3)"
   ]
  },
  {
   "cell_type": "code",
   "execution_count": 34,
   "id": "0088b880",
   "metadata": {
    "ExecuteTime": {
     "end_time": "2021-11-11T02:20:44.777405Z",
     "start_time": "2021-11-11T02:20:44.748181Z"
    }
   },
   "outputs": [
    {
     "data": {
      "text/plain": [
       "complex"
      ]
     },
     "execution_count": 34,
     "metadata": {},
     "output_type": "execute_result"
    }
   ],
   "source": [
    "type(complex(num1))"
   ]
  },
  {
   "cell_type": "markdown",
   "id": "67ab7ec0",
   "metadata": {},
   "source": [
    "### Errores"
   ]
  },
  {
   "cell_type": "code",
   "execution_count": 35,
   "id": "8a1ee993",
   "metadata": {
    "ExecuteTime": {
     "end_time": "2021-11-11T02:20:58.614030Z",
     "start_time": "2021-11-11T02:20:58.597112Z"
    }
   },
   "outputs": [],
   "source": [
    "a = \"a\""
   ]
  },
  {
   "cell_type": "code",
   "execution_count": 36,
   "id": "5175d42d",
   "metadata": {
    "ExecuteTime": {
     "end_time": "2021-11-11T02:20:59.292118Z",
     "start_time": "2021-11-11T02:20:59.276286Z"
    }
   },
   "outputs": [
    {
     "ename": "ValueError",
     "evalue": "invalid literal for int() with base 10: 'a'",
     "output_type": "error",
     "traceback": [
      "\u001b[1;31m---------------------------------------------------------------------------\u001b[0m",
      "\u001b[1;31mValueError\u001b[0m                                Traceback (most recent call last)",
      "\u001b[1;32m~\\AppData\\Local\\Temp/ipykernel_15848/766485689.py\u001b[0m in \u001b[0;36m<module>\u001b[1;34m\u001b[0m\n\u001b[1;32m----> 1\u001b[1;33m \u001b[0mint\u001b[0m\u001b[1;33m(\u001b[0m\u001b[0ma\u001b[0m\u001b[1;33m)\u001b[0m\u001b[1;33m\u001b[0m\u001b[1;33m\u001b[0m\u001b[0m\n\u001b[0m",
      "\u001b[1;31mValueError\u001b[0m: invalid literal for int() with base 10: 'a'"
     ]
    }
   ],
   "source": [
    "int(a)"
   ]
  },
  {
   "cell_type": "code",
   "execution_count": 37,
   "id": "d3271b05",
   "metadata": {
    "ExecuteTime": {
     "end_time": "2021-11-11T02:21:05.689360Z",
     "start_time": "2021-11-11T02:21:05.669307Z"
    }
   },
   "outputs": [
    {
     "ename": "ValueError",
     "evalue": "could not convert string to float: 'a'",
     "output_type": "error",
     "traceback": [
      "\u001b[1;31m---------------------------------------------------------------------------\u001b[0m",
      "\u001b[1;31mValueError\u001b[0m                                Traceback (most recent call last)",
      "\u001b[1;32m~\\AppData\\Local\\Temp/ipykernel_15848/593670237.py\u001b[0m in \u001b[0;36m<module>\u001b[1;34m\u001b[0m\n\u001b[1;32m----> 1\u001b[1;33m \u001b[0mfloat\u001b[0m\u001b[1;33m(\u001b[0m\u001b[0ma\u001b[0m\u001b[1;33m)\u001b[0m\u001b[1;33m\u001b[0m\u001b[1;33m\u001b[0m\u001b[0m\n\u001b[0m",
      "\u001b[1;31mValueError\u001b[0m: could not convert string to float: 'a'"
     ]
    }
   ],
   "source": [
    "float(a)"
   ]
  },
  {
   "cell_type": "code",
   "execution_count": 38,
   "id": "76957740",
   "metadata": {
    "ExecuteTime": {
     "end_time": "2021-11-11T02:21:08.019547Z",
     "start_time": "2021-11-11T02:21:08.004683Z"
    }
   },
   "outputs": [
    {
     "ename": "ValueError",
     "evalue": "complex() arg is a malformed string",
     "output_type": "error",
     "traceback": [
      "\u001b[1;31m---------------------------------------------------------------------------\u001b[0m",
      "\u001b[1;31mValueError\u001b[0m                                Traceback (most recent call last)",
      "\u001b[1;32m~\\AppData\\Local\\Temp/ipykernel_15848/2262580509.py\u001b[0m in \u001b[0;36m<module>\u001b[1;34m\u001b[0m\n\u001b[1;32m----> 1\u001b[1;33m \u001b[0mcomplex\u001b[0m\u001b[1;33m(\u001b[0m\u001b[0ma\u001b[0m\u001b[1;33m)\u001b[0m\u001b[1;33m\u001b[0m\u001b[1;33m\u001b[0m\u001b[0m\n\u001b[0m",
      "\u001b[1;31mValueError\u001b[0m: complex() arg is a malformed string"
     ]
    }
   ],
   "source": [
    "complex(a)"
   ]
  },
  {
   "cell_type": "markdown",
   "id": "b8df204d",
   "metadata": {},
   "source": [
    "### Booleano a entero, flotante o complejo"
   ]
  },
  {
   "cell_type": "code",
   "execution_count": 61,
   "id": "0ed9e5bc",
   "metadata": {
    "ExecuteTime": {
     "end_time": "2021-11-10T01:24:59.830735Z",
     "start_time": "2021-11-10T01:24:59.809359Z"
    }
   },
   "outputs": [
    {
     "data": {
      "text/plain": [
       "1"
      ]
     },
     "execution_count": 61,
     "metadata": {},
     "output_type": "execute_result"
    }
   ],
   "source": [
    "int(True)"
   ]
  },
  {
   "cell_type": "code",
   "execution_count": 62,
   "id": "022f3f8d",
   "metadata": {
    "ExecuteTime": {
     "end_time": "2021-11-10T01:25:19.085752Z",
     "start_time": "2021-11-10T01:25:19.064939Z"
    }
   },
   "outputs": [
    {
     "data": {
      "text/plain": [
       "0"
      ]
     },
     "execution_count": 62,
     "metadata": {},
     "output_type": "execute_result"
    }
   ],
   "source": [
    "int(False)"
   ]
  },
  {
   "cell_type": "code",
   "execution_count": 63,
   "id": "a9f5a585",
   "metadata": {
    "ExecuteTime": {
     "end_time": "2021-11-10T01:25:32.760642Z",
     "start_time": "2021-11-10T01:25:32.744843Z"
    }
   },
   "outputs": [
    {
     "data": {
      "text/plain": [
       "1.0"
      ]
     },
     "execution_count": 63,
     "metadata": {},
     "output_type": "execute_result"
    }
   ],
   "source": [
    "float(True)"
   ]
  },
  {
   "cell_type": "code",
   "execution_count": 64,
   "id": "3a11b079",
   "metadata": {
    "ExecuteTime": {
     "end_time": "2021-11-10T01:25:41.841112Z",
     "start_time": "2021-11-10T01:25:41.825376Z"
    }
   },
   "outputs": [
    {
     "data": {
      "text/plain": [
       "(1+0j)"
      ]
     },
     "execution_count": 64,
     "metadata": {},
     "output_type": "execute_result"
    }
   ],
   "source": [
    "complex(True)"
   ]
  },
  {
   "cell_type": "markdown",
   "id": "cf73a53b",
   "metadata": {},
   "source": [
    "## Listas"
   ]
  },
  {
   "cell_type": "code",
   "execution_count": 40,
   "id": "2bf1a529",
   "metadata": {
    "ExecuteTime": {
     "end_time": "2021-11-11T02:22:55.918874Z",
     "start_time": "2021-11-11T02:22:55.903906Z"
    }
   },
   "outputs": [
    {
     "data": {
      "text/plain": [
       "list"
      ]
     },
     "execution_count": 40,
     "metadata": {},
     "output_type": "execute_result"
    }
   ],
   "source": [
    "type([1,2,3,4,5])"
   ]
  },
  {
   "cell_type": "code",
   "execution_count": 41,
   "id": "d360cfbd",
   "metadata": {
    "ExecuteTime": {
     "end_time": "2021-11-11T02:23:12.470080Z",
     "start_time": "2021-11-11T02:23:12.453766Z"
    }
   },
   "outputs": [],
   "source": [
    "lst = [1,2,3,4,5]"
   ]
  },
  {
   "cell_type": "code",
   "execution_count": 42,
   "id": "e90b19b2",
   "metadata": {
    "ExecuteTime": {
     "end_time": "2021-11-11T02:23:15.599513Z",
     "start_time": "2021-11-11T02:23:15.588519Z"
    }
   },
   "outputs": [
    {
     "data": {
      "text/plain": [
       "[1, 2, 3, 4, 5]"
      ]
     },
     "execution_count": 42,
     "metadata": {},
     "output_type": "execute_result"
    }
   ],
   "source": [
    "lst"
   ]
  },
  {
   "cell_type": "code",
   "execution_count": 43,
   "id": "ef6187a9",
   "metadata": {
    "ExecuteTime": {
     "end_time": "2021-11-11T02:24:05.936624Z",
     "start_time": "2021-11-11T02:24:05.923664Z"
    }
   },
   "outputs": [],
   "source": [
    "lst2 = ['Hola',30,[1],'30',1,5,54,4,5,3]"
   ]
  },
  {
   "cell_type": "code",
   "execution_count": 77,
   "id": "7393b0ac",
   "metadata": {
    "ExecuteTime": {
     "end_time": "2021-11-10T01:35:48.873030Z",
     "start_time": "2021-11-10T01:35:48.862651Z"
    }
   },
   "outputs": [
    {
     "data": {
      "text/plain": [
       "list"
      ]
     },
     "execution_count": 77,
     "metadata": {},
     "output_type": "execute_result"
    }
   ],
   "source": [
    "type(lst2)"
   ]
  },
  {
   "cell_type": "code",
   "execution_count": 44,
   "id": "aabf11f2",
   "metadata": {
    "ExecuteTime": {
     "end_time": "2021-11-11T02:24:53.308720Z",
     "start_time": "2021-11-11T02:24:53.302567Z"
    }
   },
   "outputs": [
    {
     "data": {
      "text/plain": [
       "10"
      ]
     },
     "execution_count": 44,
     "metadata": {},
     "output_type": "execute_result"
    }
   ],
   "source": [
    "len(lst2) "
   ]
  },
  {
   "cell_type": "code",
   "execution_count": 46,
   "id": "ec7615ee",
   "metadata": {
    "ExecuteTime": {
     "end_time": "2021-11-11T02:26:35.434555Z",
     "start_time": "2021-11-11T02:26:35.379981Z"
    }
   },
   "outputs": [
    {
     "data": {
      "text/plain": [
       "3"
      ]
     },
     "execution_count": 46,
     "metadata": {},
     "output_type": "execute_result"
    }
   ],
   "source": [
    "lst2[-1]"
   ]
  },
  {
   "cell_type": "code",
   "execution_count": 79,
   "id": "1f508cce",
   "metadata": {
    "ExecuteTime": {
     "end_time": "2021-11-10T01:36:31.086088Z",
     "start_time": "2021-11-10T01:36:31.044779Z"
    }
   },
   "outputs": [
    {
     "data": {
      "text/plain": [
       "3"
      ]
     },
     "execution_count": 79,
     "metadata": {},
     "output_type": "execute_result"
    }
   ],
   "source": [
    "lst2[-1]"
   ]
  },
  {
   "cell_type": "code",
   "execution_count": null,
   "id": "15c05d6c",
   "metadata": {},
   "outputs": [],
   "source": [
    "lst2 = ['Hola',30,[1],'30',1,5,54,4,5,3]"
   ]
  },
  {
   "cell_type": "code",
   "execution_count": 47,
   "id": "9f181adb",
   "metadata": {
    "ExecuteTime": {
     "end_time": "2021-11-11T02:28:23.177735Z",
     "start_time": "2021-11-11T02:28:23.147642Z"
    }
   },
   "outputs": [
    {
     "data": {
      "text/plain": [
       "['Hola', 30]"
      ]
     },
     "execution_count": 47,
     "metadata": {},
     "output_type": "execute_result"
    }
   ],
   "source": [
    "lst2[:2]"
   ]
  },
  {
   "cell_type": "code",
   "execution_count": 49,
   "id": "a77becd7",
   "metadata": {
    "ExecuteTime": {
     "end_time": "2021-11-11T02:28:48.535337Z",
     "start_time": "2021-11-11T02:28:48.505594Z"
    }
   },
   "outputs": [
    {
     "data": {
      "text/plain": [
       "[5, 3]"
      ]
     },
     "execution_count": 49,
     "metadata": {},
     "output_type": "execute_result"
    }
   ],
   "source": [
    "lst2[-2:]"
   ]
  },
  {
   "cell_type": "code",
   "execution_count": 50,
   "id": "7e1f690d",
   "metadata": {
    "ExecuteTime": {
     "end_time": "2021-11-11T02:30:06.083885Z",
     "start_time": "2021-11-11T02:30:06.067708Z"
    }
   },
   "outputs": [
    {
     "data": {
      "text/plain": [
       "[[1], '30', 1, 5, 54, 4, 5, 3]"
      ]
     },
     "execution_count": 50,
     "metadata": {},
     "output_type": "execute_result"
    }
   ],
   "source": [
    "lst2[2:]"
   ]
  },
  {
   "cell_type": "code",
   "execution_count": 51,
   "id": "b8e1e56f",
   "metadata": {
    "ExecuteTime": {
     "end_time": "2021-11-11T02:30:33.622747Z",
     "start_time": "2021-11-11T02:30:33.606966Z"
    }
   },
   "outputs": [
    {
     "data": {
      "text/plain": [
       "['Hola', 30, [1], '30']"
      ]
     },
     "execution_count": 51,
     "metadata": {},
     "output_type": "execute_result"
    }
   ],
   "source": [
    "lst2[:4]"
   ]
  },
  {
   "cell_type": "code",
   "execution_count": 52,
   "id": "65b72b74",
   "metadata": {
    "ExecuteTime": {
     "end_time": "2021-11-11T02:31:06.337368Z",
     "start_time": "2021-11-11T02:31:06.307691Z"
    }
   },
   "outputs": [
    {
     "data": {
      "text/plain": [
       "[[1], '30']"
      ]
     },
     "execution_count": 52,
     "metadata": {},
     "output_type": "execute_result"
    }
   ],
   "source": [
    "lst2[2:4]"
   ]
  },
  {
   "cell_type": "code",
   "execution_count": 53,
   "id": "d4e17363",
   "metadata": {
    "ExecuteTime": {
     "end_time": "2021-11-11T02:32:24.427368Z",
     "start_time": "2021-11-11T02:32:24.418835Z"
    }
   },
   "outputs": [],
   "source": [
    "lst3 = [[1,2,3],[4,5,6],[7,8,9]]"
   ]
  },
  {
   "cell_type": "code",
   "execution_count": 57,
   "id": "e69ffe9e",
   "metadata": {
    "ExecuteTime": {
     "end_time": "2021-11-11T02:34:14.564474Z",
     "start_time": "2021-11-11T02:34:14.550809Z"
    }
   },
   "outputs": [
    {
     "data": {
      "text/plain": [
       "5"
      ]
     },
     "execution_count": 57,
     "metadata": {},
     "output_type": "execute_result"
    }
   ],
   "source": [
    "lst3[1][1]"
   ]
  },
  {
   "cell_type": "markdown",
   "id": "bea49132",
   "metadata": {},
   "source": [
    "## Tupla"
   ]
  },
  {
   "cell_type": "code",
   "execution_count": 59,
   "id": "38464949",
   "metadata": {
    "ExecuteTime": {
     "end_time": "2021-11-11T02:38:30.491453Z",
     "start_time": "2021-11-11T02:38:30.479165Z"
    }
   },
   "outputs": [],
   "source": [
    "tup = (1,2,3)"
   ]
  },
  {
   "cell_type": "code",
   "execution_count": 60,
   "id": "6fd3457c",
   "metadata": {
    "ExecuteTime": {
     "end_time": "2021-11-11T02:38:37.516686Z",
     "start_time": "2021-11-11T02:38:37.486732Z"
    }
   },
   "outputs": [
    {
     "data": {
      "text/plain": [
       "tuple"
      ]
     },
     "execution_count": 60,
     "metadata": {},
     "output_type": "execute_result"
    }
   ],
   "source": [
    "type(tup)"
   ]
  },
  {
   "cell_type": "code",
   "execution_count": 61,
   "id": "94360f7b",
   "metadata": {
    "ExecuteTime": {
     "end_time": "2021-11-11T02:38:54.188810Z",
     "start_time": "2021-11-11T02:38:54.165637Z"
    }
   },
   "outputs": [
    {
     "data": {
      "text/plain": [
       "3"
      ]
     },
     "execution_count": 61,
     "metadata": {},
     "output_type": "execute_result"
    }
   ],
   "source": [
    "tup[-1]"
   ]
  },
  {
   "cell_type": "markdown",
   "id": "7dac2fcd",
   "metadata": {},
   "source": [
    "## Lista vs Tupla"
   ]
  },
  {
   "cell_type": "code",
   "execution_count": 70,
   "id": "a79e2a99",
   "metadata": {
    "ExecuteTime": {
     "end_time": "2021-11-11T02:45:00.360590Z",
     "start_time": "2021-11-11T02:45:00.344979Z"
    }
   },
   "outputs": [],
   "source": [
    "lst = [1,2,3,4,5]\n",
    "tup = (1,2,3,4,5,5,5,5,5,5,5,5)"
   ]
  },
  {
   "cell_type": "code",
   "execution_count": 71,
   "id": "420334a8",
   "metadata": {
    "ExecuteTime": {
     "end_time": "2021-11-11T02:45:00.816709Z",
     "start_time": "2021-11-11T02:45:00.800790Z"
    }
   },
   "outputs": [],
   "source": [
    "lst.append(6)"
   ]
  },
  {
   "cell_type": "code",
   "execution_count": 72,
   "id": "be9a20d5",
   "metadata": {
    "ExecuteTime": {
     "end_time": "2021-11-11T02:45:01.025626Z",
     "start_time": "2021-11-11T02:45:01.020543Z"
    }
   },
   "outputs": [],
   "source": [
    "lst.append('7')"
   ]
  },
  {
   "cell_type": "code",
   "execution_count": 73,
   "id": "d05ab21f",
   "metadata": {
    "ExecuteTime": {
     "end_time": "2021-11-11T02:45:01.576883Z",
     "start_time": "2021-11-11T02:45:01.560727Z"
    }
   },
   "outputs": [
    {
     "data": {
      "text/plain": [
       "[1, 2, 3, 4, 5, 6, '7']"
      ]
     },
     "execution_count": 73,
     "metadata": {},
     "output_type": "execute_result"
    }
   ],
   "source": [
    "lst"
   ]
  },
  {
   "cell_type": "code",
   "execution_count": 74,
   "id": "029dee90",
   "metadata": {
    "ExecuteTime": {
     "end_time": "2021-11-11T02:45:09.631087Z",
     "start_time": "2021-11-11T02:45:09.616000Z"
    }
   },
   "outputs": [
    {
     "data": {
      "text/plain": [
       "8"
      ]
     },
     "execution_count": 74,
     "metadata": {},
     "output_type": "execute_result"
    }
   ],
   "source": [
    "tup.count(5)"
   ]
  },
  {
   "cell_type": "code",
   "execution_count": 76,
   "id": "f9df67cb",
   "metadata": {
    "ExecuteTime": {
     "end_time": "2021-11-11T02:46:17.372983Z",
     "start_time": "2021-11-11T02:46:17.355639Z"
    }
   },
   "outputs": [],
   "source": [
    "lst[0] = 'Hola'"
   ]
  },
  {
   "cell_type": "code",
   "execution_count": 77,
   "id": "b71c7850",
   "metadata": {
    "ExecuteTime": {
     "end_time": "2021-11-11T02:46:21.163472Z",
     "start_time": "2021-11-11T02:46:21.150256Z"
    }
   },
   "outputs": [
    {
     "data": {
      "text/plain": [
       "['Hola', 2, 3, 4, 5, 6, '7']"
      ]
     },
     "execution_count": 77,
     "metadata": {},
     "output_type": "execute_result"
    }
   ],
   "source": [
    "lst"
   ]
  },
  {
   "cell_type": "code",
   "execution_count": 79,
   "id": "9cc0a217",
   "metadata": {
    "ExecuteTime": {
     "end_time": "2021-11-11T02:46:40.099758Z",
     "start_time": "2021-11-11T02:46:40.075898Z"
    }
   },
   "outputs": [
    {
     "ename": "TypeError",
     "evalue": "'tuple' object does not support item assignment",
     "output_type": "error",
     "traceback": [
      "\u001b[1;31m---------------------------------------------------------------------------\u001b[0m",
      "\u001b[1;31mTypeError\u001b[0m                                 Traceback (most recent call last)",
      "\u001b[1;32m~\\AppData\\Local\\Temp/ipykernel_15848/1407116046.py\u001b[0m in \u001b[0;36m<module>\u001b[1;34m\u001b[0m\n\u001b[1;32m----> 1\u001b[1;33m \u001b[0mtup\u001b[0m\u001b[1;33m[\u001b[0m\u001b[1;36m0\u001b[0m\u001b[1;33m]\u001b[0m \u001b[1;33m=\u001b[0m \u001b[1;34m'Hola'\u001b[0m\u001b[1;33m\u001b[0m\u001b[1;33m\u001b[0m\u001b[0m\n\u001b[0m",
      "\u001b[1;31mTypeError\u001b[0m: 'tuple' object does not support item assignment"
     ]
    }
   ],
   "source": [
    "tup[0] = 'Hola'"
   ]
  },
  {
   "cell_type": "code",
   "execution_count": 80,
   "id": "7bdd2249",
   "metadata": {
    "ExecuteTime": {
     "end_time": "2021-11-11T02:48:41.066486Z",
     "start_time": "2021-11-11T02:48:41.058136Z"
    }
   },
   "outputs": [
    {
     "data": {
      "text/plain": [
       "[1, 2, 3, 4, 5, 6]"
      ]
     },
     "execution_count": 80,
     "metadata": {},
     "output_type": "execute_result"
    }
   ],
   "source": [
    "[1,2,3] + [4,5,6]"
   ]
  },
  {
   "cell_type": "code",
   "execution_count": 81,
   "id": "af13c0ca",
   "metadata": {
    "ExecuteTime": {
     "end_time": "2021-11-11T02:50:03.384957Z",
     "start_time": "2021-11-11T02:50:03.357588Z"
    }
   },
   "outputs": [
    {
     "ename": "TypeError",
     "evalue": "unsupported operand type(s) for -: 'list' and 'list'",
     "output_type": "error",
     "traceback": [
      "\u001b[1;31m---------------------------------------------------------------------------\u001b[0m",
      "\u001b[1;31mTypeError\u001b[0m                                 Traceback (most recent call last)",
      "\u001b[1;32m~\\AppData\\Local\\Temp/ipykernel_15848/3784601723.py\u001b[0m in \u001b[0;36m<module>\u001b[1;34m\u001b[0m\n\u001b[1;32m----> 1\u001b[1;33m \u001b[1;33m[\u001b[0m\u001b[1;36m1\u001b[0m\u001b[1;33m,\u001b[0m\u001b[1;36m2\u001b[0m\u001b[1;33m,\u001b[0m\u001b[1;36m3\u001b[0m\u001b[1;33m]\u001b[0m \u001b[1;33m-\u001b[0m \u001b[1;33m[\u001b[0m\u001b[1;36m1\u001b[0m\u001b[1;33m]\u001b[0m\u001b[1;33m\u001b[0m\u001b[1;33m\u001b[0m\u001b[0m\n\u001b[0m",
      "\u001b[1;31mTypeError\u001b[0m: unsupported operand type(s) for -: 'list' and 'list'"
     ]
    }
   ],
   "source": [
    "[1,2,3] - [1]"
   ]
  },
  {
   "cell_type": "code",
   "execution_count": 82,
   "id": "e6f4434b",
   "metadata": {
    "ExecuteTime": {
     "end_time": "2021-11-11T02:50:53.309939Z",
     "start_time": "2021-11-11T02:50:53.293640Z"
    }
   },
   "outputs": [
    {
     "data": {
      "text/plain": [
       "[1, 2, 3, 1, 2, 3, 1, 2, 3]"
      ]
     },
     "execution_count": 82,
     "metadata": {},
     "output_type": "execute_result"
    }
   ],
   "source": [
    "[1,2,3]*3"
   ]
  },
  {
   "cell_type": "code",
   "execution_count": 83,
   "id": "f47b522a",
   "metadata": {
    "ExecuteTime": {
     "end_time": "2021-11-11T02:51:12.698566Z",
     "start_time": "2021-11-11T02:51:12.674826Z"
    }
   },
   "outputs": [
    {
     "data": {
      "text/plain": [
       "'holaholahola'"
      ]
     },
     "execution_count": 83,
     "metadata": {},
     "output_type": "execute_result"
    }
   ],
   "source": [
    "'hola'*3"
   ]
  },
  {
   "cell_type": "code",
   "execution_count": 86,
   "id": "8774389f",
   "metadata": {
    "ExecuteTime": {
     "end_time": "2021-11-11T02:52:09.288133Z",
     "start_time": "2021-11-11T02:52:09.271694Z"
    }
   },
   "outputs": [
    {
     "data": {
      "text/plain": [
       "(1, 2, 3, 4, 5, 6)"
      ]
     },
     "execution_count": 86,
     "metadata": {},
     "output_type": "execute_result"
    }
   ],
   "source": [
    "(1,2,3) + (4,5,6)"
   ]
  },
  {
   "cell_type": "code",
   "execution_count": 87,
   "id": "2c876228",
   "metadata": {
    "ExecuteTime": {
     "end_time": "2021-11-11T02:52:15.461560Z",
     "start_time": "2021-11-11T02:52:15.444526Z"
    }
   },
   "outputs": [
    {
     "data": {
      "text/plain": [
       "(1, 2, 3, 1, 2, 3)"
      ]
     },
     "execution_count": 87,
     "metadata": {},
     "output_type": "execute_result"
    }
   ],
   "source": [
    "(1,2,3)*2"
   ]
  },
  {
   "cell_type": "code",
   "execution_count": 88,
   "id": "41edd4c5",
   "metadata": {
    "ExecuteTime": {
     "end_time": "2021-11-11T02:52:52.764438Z",
     "start_time": "2021-11-11T02:52:52.735545Z"
    }
   },
   "outputs": [
    {
     "ename": "TypeError",
     "evalue": "can only concatenate tuple (not \"list\") to tuple",
     "output_type": "error",
     "traceback": [
      "\u001b[1;31m---------------------------------------------------------------------------\u001b[0m",
      "\u001b[1;31mTypeError\u001b[0m                                 Traceback (most recent call last)",
      "\u001b[1;32m~\\AppData\\Local\\Temp/ipykernel_15848/1387262796.py\u001b[0m in \u001b[0;36m<module>\u001b[1;34m\u001b[0m\n\u001b[1;32m----> 1\u001b[1;33m \u001b[1;33m(\u001b[0m\u001b[1;36m1\u001b[0m\u001b[1;33m,\u001b[0m\u001b[1;36m2\u001b[0m\u001b[1;33m,\u001b[0m\u001b[1;36m3\u001b[0m\u001b[1;33m)\u001b[0m \u001b[1;33m+\u001b[0m \u001b[1;33m[\u001b[0m\u001b[1;36m4\u001b[0m\u001b[1;33m,\u001b[0m\u001b[1;36m5\u001b[0m\u001b[1;33m,\u001b[0m\u001b[1;36m6\u001b[0m\u001b[1;33m]\u001b[0m\u001b[1;33m\u001b[0m\u001b[1;33m\u001b[0m\u001b[0m\n\u001b[0m",
      "\u001b[1;31mTypeError\u001b[0m: can only concatenate tuple (not \"list\") to tuple"
     ]
    }
   ],
   "source": [
    "(1,2,3) + [4,5,6]"
   ]
  },
  {
   "cell_type": "code",
   "execution_count": null,
   "id": "afb4762c",
   "metadata": {},
   "outputs": [],
   "source": [
    "## https://entrenamiento-python-basico.readthedocs.io/es/latest/leccion3/tipo_listas.html"
   ]
  },
  {
   "cell_type": "code",
   "execution_count": 89,
   "id": "70185aa8",
   "metadata": {
    "ExecuteTime": {
     "end_time": "2021-11-11T03:02:43.433162Z",
     "start_time": "2021-11-11T03:02:43.407907Z"
    }
   },
   "outputs": [
    {
     "data": {
      "text/plain": [
       "(12, 34)"
      ]
     },
     "execution_count": 89,
     "metadata": {},
     "output_type": "execute_result"
    }
   ],
   "source": [
    "tuple([12,34])"
   ]
  },
  {
   "cell_type": "code",
   "execution_count": 90,
   "id": "962f567d",
   "metadata": {
    "ExecuteTime": {
     "end_time": "2021-11-11T03:02:58.303089Z",
     "start_time": "2021-11-11T03:02:58.270232Z"
    }
   },
   "outputs": [
    {
     "data": {
      "text/plain": [
       "[1, 23]"
      ]
     },
     "execution_count": 90,
     "metadata": {},
     "output_type": "execute_result"
    }
   ],
   "source": [
    "list((1,23))"
   ]
  },
  {
   "cell_type": "markdown",
   "id": "11d443b0",
   "metadata": {},
   "source": [
    "## Diccionarios"
   ]
  },
  {
   "cell_type": "code",
   "execution_count": 92,
   "id": "641ccd47",
   "metadata": {
    "ExecuteTime": {
     "end_time": "2021-11-11T03:05:51.640395Z",
     "start_time": "2021-11-11T03:05:51.632750Z"
    }
   },
   "outputs": [
    {
     "data": {
      "text/plain": [
       "dict"
      ]
     },
     "execution_count": 92,
     "metadata": {},
     "output_type": "execute_result"
    }
   ],
   "source": [
    "type({'Nombre':'David','Apellido':'Nolasco','N_cuenta':'315149759'})"
   ]
  },
  {
   "cell_type": "code",
   "execution_count": 93,
   "id": "3ad04e1b",
   "metadata": {
    "ExecuteTime": {
     "end_time": "2021-11-11T03:06:02.572826Z",
     "start_time": "2021-11-11T03:06:02.547606Z"
    }
   },
   "outputs": [],
   "source": [
    "dic = {'Nombre':'David','Apellido':'Nolasco','N_cuenta':'315149759'}"
   ]
  },
  {
   "cell_type": "code",
   "execution_count": 100,
   "id": "9910f88f",
   "metadata": {
    "ExecuteTime": {
     "end_time": "2021-11-11T03:10:40.948618Z",
     "start_time": "2021-11-11T03:10:40.921721Z"
    }
   },
   "outputs": [],
   "source": [
    "dic = {'Contraseña':'123423234','host':'root','poort':'315149759'}"
   ]
  },
  {
   "cell_type": "code",
   "execution_count": 101,
   "id": "ce6fab17",
   "metadata": {
    "ExecuteTime": {
     "end_time": "2021-11-11T03:10:41.144778Z",
     "start_time": "2021-11-11T03:10:41.129123Z"
    }
   },
   "outputs": [],
   "source": [
    "contraseña = dic['Contraseña']"
   ]
  },
  {
   "cell_type": "code",
   "execution_count": 104,
   "id": "754c46ed",
   "metadata": {
    "ExecuteTime": {
     "end_time": "2021-11-11T03:11:39.110301Z",
     "start_time": "2021-11-11T03:11:39.091879Z"
    }
   },
   "outputs": [],
   "source": [
    "dic['new'] = 1234"
   ]
  },
  {
   "cell_type": "code",
   "execution_count": 106,
   "id": "14f4a7de",
   "metadata": {
    "ExecuteTime": {
     "end_time": "2021-11-11T03:11:52.270760Z",
     "start_time": "2021-11-11T03:11:52.240538Z"
    }
   },
   "outputs": [
    {
     "data": {
      "text/plain": [
       "1234"
      ]
     },
     "execution_count": 106,
     "metadata": {},
     "output_type": "execute_result"
    }
   ],
   "source": [
    "dic['new']"
   ]
  },
  {
   "cell_type": "markdown",
   "id": "5c0a5125",
   "metadata": {},
   "source": [
    "# Operadores en Python"
   ]
  },
  {
   "cell_type": "markdown",
   "id": "954fbd62",
   "metadata": {},
   "source": [
    "## Suma"
   ]
  },
  {
   "cell_type": "code",
   "execution_count": 107,
   "id": "f4c5380b",
   "metadata": {
    "ExecuteTime": {
     "end_time": "2021-11-11T03:14:26.661586Z",
     "start_time": "2021-11-11T03:14:26.651212Z"
    }
   },
   "outputs": [
    {
     "data": {
      "text/plain": [
       "3"
      ]
     },
     "execution_count": 107,
     "metadata": {},
     "output_type": "execute_result"
    }
   ],
   "source": [
    "1+2"
   ]
  },
  {
   "cell_type": "code",
   "execution_count": 140,
   "id": "3fcce7c4",
   "metadata": {
    "ExecuteTime": {
     "end_time": "2021-11-11T03:33:28.606050Z",
     "start_time": "2021-11-11T03:33:28.588542Z"
    }
   },
   "outputs": [
    {
     "data": {
      "text/plain": [
       "172"
      ]
     },
     "execution_count": 140,
     "metadata": {},
     "output_type": "execute_result"
    }
   ],
   "source": [
    "sum([1,2,34,43,53,5,34])"
   ]
  },
  {
   "cell_type": "markdown",
   "id": "618aa87d",
   "metadata": {},
   "source": [
    "## Resta"
   ]
  },
  {
   "cell_type": "code",
   "execution_count": 108,
   "id": "f341ad37",
   "metadata": {
    "ExecuteTime": {
     "end_time": "2021-11-11T03:14:48.682235Z",
     "start_time": "2021-11-11T03:14:48.672084Z"
    }
   },
   "outputs": [
    {
     "data": {
      "text/plain": [
       "1"
      ]
     },
     "execution_count": 108,
     "metadata": {},
     "output_type": "execute_result"
    }
   ],
   "source": [
    "3-2"
   ]
  },
  {
   "cell_type": "markdown",
   "id": "b9989836",
   "metadata": {},
   "source": [
    "## Multiplicación"
   ]
  },
  {
   "cell_type": "code",
   "execution_count": 109,
   "id": "81830096",
   "metadata": {
    "ExecuteTime": {
     "end_time": "2021-11-11T03:15:45.841564Z",
     "start_time": "2021-11-11T03:15:45.816106Z"
    }
   },
   "outputs": [
    {
     "data": {
      "text/plain": [
       "8"
      ]
     },
     "execution_count": 109,
     "metadata": {},
     "output_type": "execute_result"
    }
   ],
   "source": [
    "4*2"
   ]
  },
  {
   "cell_type": "markdown",
   "id": "8dbf107d",
   "metadata": {},
   "source": [
    "## División"
   ]
  },
  {
   "cell_type": "code",
   "execution_count": 110,
   "id": "a323ad0d",
   "metadata": {
    "ExecuteTime": {
     "end_time": "2021-11-11T03:16:05.800520Z",
     "start_time": "2021-11-11T03:16:05.764085Z"
    }
   },
   "outputs": [
    {
     "data": {
      "text/plain": [
       "0.5"
      ]
     },
     "execution_count": 110,
     "metadata": {},
     "output_type": "execute_result"
    }
   ],
   "source": [
    "1/2"
   ]
  },
  {
   "cell_type": "markdown",
   "id": "43e6e104",
   "metadata": {},
   "source": [
    "## Potencia"
   ]
  },
  {
   "cell_type": "code",
   "execution_count": 111,
   "id": "393d3f5c",
   "metadata": {
    "ExecuteTime": {
     "end_time": "2021-11-11T03:17:27.403652Z",
     "start_time": "2021-11-11T03:17:27.390990Z"
    }
   },
   "outputs": [
    {
     "data": {
      "text/plain": [
       "243"
      ]
     },
     "execution_count": 111,
     "metadata": {},
     "output_type": "execute_result"
    }
   ],
   "source": [
    "3**5"
   ]
  },
  {
   "cell_type": "code",
   "execution_count": 112,
   "id": "aa8bbe2a",
   "metadata": {
    "ExecuteTime": {
     "end_time": "2021-11-11T03:18:18.450871Z",
     "start_time": "2021-11-11T03:18:18.425621Z"
    }
   },
   "outputs": [
    {
     "data": {
      "text/plain": [
       "243"
      ]
     },
     "execution_count": 112,
     "metadata": {},
     "output_type": "execute_result"
    }
   ],
   "source": [
    "pow(3,5)"
   ]
  },
  {
   "cell_type": "markdown",
   "id": "9e3be48e",
   "metadata": {},
   "source": [
    "## Raíces"
   ]
  },
  {
   "cell_type": "markdown",
   "id": "c58f76e9",
   "metadata": {},
   "source": [
    "$$\\sqrt[n]{a} = a^{\\frac{1}{n}} $$ "
   ]
  },
  {
   "cell_type": "code",
   "execution_count": 115,
   "id": "5f701f01",
   "metadata": {
    "ExecuteTime": {
     "end_time": "2021-11-11T03:19:59.235853Z",
     "start_time": "2021-11-11T03:19:59.219477Z"
    }
   },
   "outputs": [
    {
     "data": {
      "text/plain": [
       "1.4142135623730951"
      ]
     },
     "execution_count": 115,
     "metadata": {},
     "output_type": "execute_result"
    }
   ],
   "source": [
    "2**(1/2)"
   ]
  },
  {
   "cell_type": "code",
   "execution_count": 116,
   "id": "ffc20f29",
   "metadata": {
    "ExecuteTime": {
     "end_time": "2021-11-11T03:20:18.570728Z",
     "start_time": "2021-11-11T03:20:18.550299Z"
    }
   },
   "outputs": [
    {
     "data": {
      "text/plain": [
       "1.4142135623730951"
      ]
     },
     "execution_count": 116,
     "metadata": {},
     "output_type": "execute_result"
    }
   ],
   "source": [
    "pow(2,1/2)"
   ]
  },
  {
   "cell_type": "markdown",
   "id": "ce67d975",
   "metadata": {},
   "source": [
    "### Importar librerias"
   ]
  },
  {
   "cell_type": "code",
   "execution_count": 122,
   "id": "df6aa308",
   "metadata": {
    "ExecuteTime": {
     "end_time": "2021-11-11T03:24:25.211210Z",
     "start_time": "2021-11-11T03:24:25.195151Z"
    }
   },
   "outputs": [],
   "source": [
    "import math \n",
    "import numpy as np"
   ]
  },
  {
   "cell_type": "code",
   "execution_count": 119,
   "id": "9d871d73",
   "metadata": {
    "ExecuteTime": {
     "end_time": "2021-11-11T03:22:23.225738Z",
     "start_time": "2021-11-11T03:22:23.209210Z"
    }
   },
   "outputs": [
    {
     "data": {
      "text/plain": [
       "1.4142135623730951"
      ]
     },
     "execution_count": 119,
     "metadata": {},
     "output_type": "execute_result"
    }
   ],
   "source": [
    "math.sqrt(2)"
   ]
  },
  {
   "cell_type": "code",
   "execution_count": 123,
   "id": "ef735083",
   "metadata": {
    "ExecuteTime": {
     "end_time": "2021-11-11T03:24:53.677916Z",
     "start_time": "2021-11-11T03:24:53.659660Z"
    }
   },
   "outputs": [
    {
     "data": {
      "text/plain": [
       "1.4142135623730951"
      ]
     },
     "execution_count": 123,
     "metadata": {},
     "output_type": "execute_result"
    }
   ],
   "source": [
    "np.sqrt(2)"
   ]
  },
  {
   "cell_type": "markdown",
   "id": "35d39d68",
   "metadata": {
    "ExecuteTime": {
     "end_time": "2021-11-11T03:25:58.717732Z",
     "start_time": "2021-11-11T03:25:58.698619Z"
    }
   },
   "source": [
    "## División entera"
   ]
  },
  {
   "cell_type": "code",
   "execution_count": 127,
   "id": "2d682622",
   "metadata": {
    "ExecuteTime": {
     "end_time": "2021-11-11T03:27:15.678252Z",
     "start_time": "2021-11-11T03:27:15.659392Z"
    }
   },
   "outputs": [
    {
     "data": {
      "text/plain": [
       "2"
      ]
     },
     "execution_count": 127,
     "metadata": {},
     "output_type": "execute_result"
    }
   ],
   "source": [
    "5//2"
   ]
  },
  {
   "cell_type": "markdown",
   "id": "6454aa1c",
   "metadata": {},
   "source": [
    "## Módulo"
   ]
  },
  {
   "cell_type": "code",
   "execution_count": 129,
   "id": "79f94a6b",
   "metadata": {
    "ExecuteTime": {
     "end_time": "2021-11-11T03:28:47.645038Z",
     "start_time": "2021-11-11T03:28:47.628311Z"
    }
   },
   "outputs": [
    {
     "data": {
      "text/plain": [
       "1"
      ]
     },
     "execution_count": 129,
     "metadata": {},
     "output_type": "execute_result"
    }
   ],
   "source": [
    "5%2"
   ]
  },
  {
   "cell_type": "code",
   "execution_count": 130,
   "id": "95b44d76",
   "metadata": {
    "ExecuteTime": {
     "end_time": "2021-11-11T03:29:12.869479Z",
     "start_time": "2021-11-11T03:29:12.839322Z"
    }
   },
   "outputs": [
    {
     "data": {
      "text/plain": [
       "3"
      ]
     },
     "execution_count": 130,
     "metadata": {},
     "output_type": "execute_result"
    }
   ],
   "source": [
    "13%5"
   ]
  },
  {
   "cell_type": "markdown",
   "id": "5c936d7a",
   "metadata": {},
   "source": [
    "## Valor absoluto"
   ]
  },
  {
   "cell_type": "code",
   "execution_count": 131,
   "id": "5cc43596",
   "metadata": {
    "ExecuteTime": {
     "end_time": "2021-11-11T03:29:36.335674Z",
     "start_time": "2021-11-11T03:29:36.319164Z"
    }
   },
   "outputs": [
    {
     "data": {
      "text/plain": [
       "3"
      ]
     },
     "execution_count": 131,
     "metadata": {},
     "output_type": "execute_result"
    }
   ],
   "source": [
    "abs(-3)"
   ]
  },
  {
   "cell_type": "markdown",
   "id": "da657485",
   "metadata": {},
   "source": [
    "## Redondear"
   ]
  },
  {
   "cell_type": "code",
   "execution_count": 132,
   "id": "018533e1",
   "metadata": {
    "ExecuteTime": {
     "end_time": "2021-11-11T03:30:06.581406Z",
     "start_time": "2021-11-11T03:30:06.566069Z"
    }
   },
   "outputs": [
    {
     "data": {
      "text/plain": [
       "3"
      ]
     },
     "execution_count": 132,
     "metadata": {},
     "output_type": "execute_result"
    }
   ],
   "source": [
    "round(3.3333333)"
   ]
  },
  {
   "cell_type": "code",
   "execution_count": 133,
   "id": "3797d049",
   "metadata": {
    "ExecuteTime": {
     "end_time": "2021-11-11T03:30:17.073674Z",
     "start_time": "2021-11-11T03:30:17.058617Z"
    }
   },
   "outputs": [
    {
     "data": {
      "text/plain": [
       "3.33"
      ]
     },
     "execution_count": 133,
     "metadata": {},
     "output_type": "execute_result"
    }
   ],
   "source": [
    "round(3.3333333,2)"
   ]
  },
  {
   "cell_type": "markdown",
   "id": "8b66a12c",
   "metadata": {},
   "source": [
    "## Redondear al entero anterior"
   ]
  },
  {
   "cell_type": "code",
   "execution_count": 134,
   "id": "88721043",
   "metadata": {
    "ExecuteTime": {
     "end_time": "2021-11-11T03:30:52.339145Z",
     "start_time": "2021-11-11T03:30:52.313934Z"
    }
   },
   "outputs": [],
   "source": [
    "import math"
   ]
  },
  {
   "cell_type": "code",
   "execution_count": 135,
   "id": "23ee03a4",
   "metadata": {
    "ExecuteTime": {
     "end_time": "2021-11-11T03:31:08.207956Z",
     "start_time": "2021-11-11T03:31:08.199788Z"
    }
   },
   "outputs": [
    {
     "data": {
      "text/plain": [
       "1"
      ]
     },
     "execution_count": 135,
     "metadata": {},
     "output_type": "execute_result"
    }
   ],
   "source": [
    "math.floor(1.9)"
   ]
  },
  {
   "cell_type": "markdown",
   "id": "93d3ad1b",
   "metadata": {},
   "source": [
    "## Redondear al entero posterior"
   ]
  },
  {
   "cell_type": "code",
   "execution_count": 136,
   "id": "a54ca425",
   "metadata": {
    "ExecuteTime": {
     "end_time": "2021-11-11T03:31:34.206618Z",
     "start_time": "2021-11-11T03:31:34.200063Z"
    }
   },
   "outputs": [
    {
     "data": {
      "text/plain": [
       "3"
      ]
     },
     "execution_count": 136,
     "metadata": {},
     "output_type": "execute_result"
    }
   ],
   "source": [
    "math.ceil(2.1)"
   ]
  },
  {
   "cell_type": "markdown",
   "id": "43772cea",
   "metadata": {},
   "source": [
    "## Máximo"
   ]
  },
  {
   "cell_type": "code",
   "execution_count": 137,
   "id": "59dc2123",
   "metadata": {
    "ExecuteTime": {
     "end_time": "2021-11-11T03:32:21.134972Z",
     "start_time": "2021-11-11T03:32:21.120782Z"
    }
   },
   "outputs": [
    {
     "data": {
      "text/plain": [
       "10"
      ]
     },
     "execution_count": 137,
     "metadata": {},
     "output_type": "execute_result"
    }
   ],
   "source": [
    "max(1,2,-3,10)"
   ]
  },
  {
   "cell_type": "markdown",
   "id": "d752e89e",
   "metadata": {},
   "source": [
    "## Mínimo"
   ]
  },
  {
   "cell_type": "code",
   "execution_count": 138,
   "id": "1e76b88c",
   "metadata": {
    "ExecuteTime": {
     "end_time": "2021-11-11T03:32:48.703224Z",
     "start_time": "2021-11-11T03:32:48.688733Z"
    }
   },
   "outputs": [
    {
     "data": {
      "text/plain": [
       "-10"
      ]
     },
     "execution_count": 138,
     "metadata": {},
     "output_type": "execute_result"
    }
   ],
   "source": [
    "min(4, 5, -2, 8, 3.5, -10)"
   ]
  },
  {
   "cell_type": "markdown",
   "id": "7150b59c",
   "metadata": {},
   "source": [
    "# Ejercicios"
   ]
  },
  {
   "cell_type": "markdown",
   "id": "e36a4dd7",
   "metadata": {},
   "source": [
    "## "
   ]
  },
  {
   "cell_type": "markdown",
   "id": "3489a60e",
   "metadata": {},
   "source": [
    "Define una lista de tamaño 5, donde sus elementos sean:\n",
    "- '1' \n",
    "- 'Hola' \n",
    "- 'AyP' \n",
    "- Boolean \n",
    "- 20211116\n",
    "\n",
    "en ese orden respectivamente y guardar dicha lista en una variable que se llame \"lst\""
   ]
  },
  {
   "cell_type": "code",
   "execution_count": 45,
   "id": "1571f86c",
   "metadata": {
    "ExecuteTime": {
     "end_time": "2021-11-17T01:42:13.822986Z",
     "start_time": "2021-11-17T01:42:13.810703Z"
    }
   },
   "outputs": [],
   "source": [
    "lst = ['1','Hola','AyP',False,20211116]"
   ]
  },
  {
   "cell_type": "code",
   "execution_count": 46,
   "id": "6ad455b0",
   "metadata": {
    "ExecuteTime": {
     "end_time": "2021-11-17T01:42:15.409778Z",
     "start_time": "2021-11-17T01:42:15.403800Z"
    }
   },
   "outputs": [
    {
     "data": {
      "text/plain": [
       "['1', 'Hola', 'AyP', False, 20211116]"
      ]
     },
     "execution_count": 46,
     "metadata": {},
     "output_type": "execute_result"
    }
   ],
   "source": [
    "lst"
   ]
  },
  {
   "cell_type": "markdown",
   "id": "d00e2e44",
   "metadata": {},
   "source": [
    "## "
   ]
  },
  {
   "cell_type": "markdown",
   "id": "22db8497",
   "metadata": {},
   "source": [
    "A tu lista \"lst\", apendizale (agregale al final de la lista) 5 objetos adicionales:\n",
    "\n",
    "- '22'\n",
    "- 'febrero'\n",
    "- [1,2,3,4,5]\n",
    "- 'spiderverse confirmado'\n",
    "- '10.003' \n",
    "\n",
    "en ese orden respectivamente. NO DEBES CREAR UNA LISTA NUEVA, DEBES TRABAJAR SOBRE TU LISTA YA CREADA \"lst\"\n",
    "\n",
    "Hint: Usa el método integrado de las listas para poder realizar este ejercicio.\n",
    "\n",
    "Debes llegar a esto:\n",
    "['1',\n",
    " 'Hola',\n",
    " 'AyP',\n",
    " True,\n",
    " 20211116,\n",
    " '22',\n",
    " 'febrero',\n",
    " [1, 2, 3, 4, 5],\n",
    " 'spiderverse confirmado',\n",
    " '10.003']"
   ]
  },
  {
   "cell_type": "code",
   "execution_count": 47,
   "id": "81ed009d",
   "metadata": {
    "ExecuteTime": {
     "end_time": "2021-11-17T01:42:17.427130Z",
     "start_time": "2021-11-17T01:42:17.417631Z"
    }
   },
   "outputs": [],
   "source": [
    "lst.append('22')\n",
    "lst.append('febrero')\n",
    "lst.append([1,2,3,4,5])\n",
    "lst.append('spiderverse confirmado')\n",
    "lst.append('10.003')"
   ]
  },
  {
   "cell_type": "code",
   "execution_count": 48,
   "id": "daee51ce",
   "metadata": {
    "ExecuteTime": {
     "end_time": "2021-11-17T01:42:17.759717Z",
     "start_time": "2021-11-17T01:42:17.751747Z"
    }
   },
   "outputs": [
    {
     "data": {
      "text/plain": [
       "['1',\n",
       " 'Hola',\n",
       " 'AyP',\n",
       " False,\n",
       " 20211116,\n",
       " '22',\n",
       " 'febrero',\n",
       " [1, 2, 3, 4, 5],\n",
       " 'spiderverse confirmado',\n",
       " '10.003']"
      ]
     },
     "execution_count": 48,
     "metadata": {},
     "output_type": "execute_result"
    }
   ],
   "source": [
    "lst"
   ]
  },
  {
   "cell_type": "code",
   "execution_count": 49,
   "id": "54939150",
   "metadata": {
    "ExecuteTime": {
     "end_time": "2021-11-17T01:42:19.696070Z",
     "start_time": "2021-11-17T01:42:19.690365Z"
    }
   },
   "outputs": [
    {
     "data": {
      "text/plain": [
       "10"
      ]
     },
     "execution_count": 49,
     "metadata": {},
     "output_type": "execute_result"
    }
   ],
   "source": [
    "len(lst)"
   ]
  },
  {
   "cell_type": "markdown",
   "id": "9796e253",
   "metadata": {},
   "source": [
    "## "
   ]
  },
  {
   "cell_type": "markdown",
   "id": "78dfaa38",
   "metadata": {},
   "source": [
    "Inserta en la primera posición de tu lista \"lst\" una tupla que contenga como elementos los siguientes objetos:\n",
    "\n",
    "- 'ubuntu'\n",
    "- 'python'\n",
    "\n",
    "NO DEBES CREAR UNA LISTA NUEVA, DEBES TRABAJAR SOBRE TU LISTA YA CREADA \"lst\"\n",
    "\n",
    "Hint: Usa el método integrado de las listas para poder realizar este ejercicio.\n",
    "\n",
    "Debes llegar a esto:\n",
    "\n",
    "[('ubuntu', 'python'),\n",
    " '1',\n",
    " 'Hola',\n",
    " 'AyP',\n",
    " True,\n",
    " 20211116,\n",
    " '22',\n",
    " 'febrero',\n",
    " [1, 2, 3, 4, 5],\n",
    " 'spiderverse confirmado',\n",
    " '10.003']"
   ]
  },
  {
   "cell_type": "code",
   "execution_count": 50,
   "id": "0f4c8dce",
   "metadata": {
    "ExecuteTime": {
     "end_time": "2021-11-17T01:42:20.481891Z",
     "start_time": "2021-11-17T01:42:20.464662Z"
    }
   },
   "outputs": [
    {
     "data": {
      "text/plain": [
       "['1',\n",
       " 'Hola',\n",
       " 'AyP',\n",
       " False,\n",
       " 20211116,\n",
       " '22',\n",
       " 'febrero',\n",
       " [1, 2, 3, 4, 5],\n",
       " 'spiderverse confirmado',\n",
       " '10.003']"
      ]
     },
     "execution_count": 50,
     "metadata": {},
     "output_type": "execute_result"
    }
   ],
   "source": [
    "lst"
   ]
  },
  {
   "cell_type": "code",
   "execution_count": 51,
   "id": "fc820410",
   "metadata": {
    "ExecuteTime": {
     "end_time": "2021-11-17T01:42:20.685708Z",
     "start_time": "2021-11-17T01:42:20.667689Z"
    }
   },
   "outputs": [],
   "source": [
    "lst.insert(0,('ubuntu','python'))"
   ]
  },
  {
   "cell_type": "code",
   "execution_count": 52,
   "id": "1241120a",
   "metadata": {
    "ExecuteTime": {
     "end_time": "2021-11-17T01:42:20.828070Z",
     "start_time": "2021-11-17T01:42:20.817792Z"
    }
   },
   "outputs": [
    {
     "data": {
      "text/plain": [
       "[('ubuntu', 'python'),\n",
       " '1',\n",
       " 'Hola',\n",
       " 'AyP',\n",
       " False,\n",
       " 20211116,\n",
       " '22',\n",
       " 'febrero',\n",
       " [1, 2, 3, 4, 5],\n",
       " 'spiderverse confirmado',\n",
       " '10.003']"
      ]
     },
     "execution_count": 52,
     "metadata": {},
     "output_type": "execute_result"
    }
   ],
   "source": [
    "lst"
   ]
  },
  {
   "cell_type": "markdown",
   "id": "5e298b65",
   "metadata": {},
   "source": [
    "## "
   ]
  },
  {
   "cell_type": "markdown",
   "id": "95f46af0",
   "metadata": {},
   "source": [
    "De tu lista \"lst\", convierte los objetos '1', '22' y '10.003' a entero o flotante y guardarlos en la misma lista y misma posición.\n",
    "\n",
    "NO DEBES CREAR UNA LISTA NUEVA, DEBES TRABAJAR SOBRE TU LISTA YA CREADA \"lst\"\n",
    "\n",
    "Hint:\n",
    "Debes de pasar de esto: \n",
    "\n",
    "[('ubuntu', 'python'),\n",
    " '1',\n",
    " 'Hola',\n",
    " 'AyP',\n",
    " True,\n",
    " 20211116,\n",
    " '22',\n",
    " 'febrero',\n",
    " [1, 2, 3, 4, 5],\n",
    " 'spiderverse confirmado',\n",
    " '10.003']\n",
    " \n",
    " a esto:\n",
    " \n",
    " [('ubuntu', 'python'),\n",
    "  1,\n",
    " 'Hola',\n",
    " 'AyP',\n",
    " True,\n",
    " 20211116,\n",
    " 22,\n",
    " 'febrero',\n",
    " [1, 2, 3, 4, 5],\n",
    " 'spiderverse confirmado',\n",
    " 10.003]"
   ]
  },
  {
   "cell_type": "code",
   "execution_count": 53,
   "id": "34991337",
   "metadata": {
    "ExecuteTime": {
     "end_time": "2021-11-17T01:42:21.239362Z",
     "start_time": "2021-11-17T01:42:21.233641Z"
    }
   },
   "outputs": [
    {
     "data": {
      "text/plain": [
       "[('ubuntu', 'python'),\n",
       " '1',\n",
       " 'Hola',\n",
       " 'AyP',\n",
       " False,\n",
       " 20211116,\n",
       " '22',\n",
       " 'febrero',\n",
       " [1, 2, 3, 4, 5],\n",
       " 'spiderverse confirmado',\n",
       " '10.003']"
      ]
     },
     "execution_count": 53,
     "metadata": {},
     "output_type": "execute_result"
    }
   ],
   "source": [
    "lst"
   ]
  },
  {
   "cell_type": "code",
   "execution_count": 54,
   "id": "e3a437d4",
   "metadata": {
    "ExecuteTime": {
     "end_time": "2021-11-17T01:42:21.379948Z",
     "start_time": "2021-11-17T01:42:21.369985Z"
    }
   },
   "outputs": [],
   "source": [
    "lst[lst.index('1')] = int(lst[lst.index('1')])\n",
    "lst[lst.index('22')] = int(lst[lst.index('22')])\n",
    "lst[lst.index('10.003')] = float(lst[lst.index('10.003')])"
   ]
  },
  {
   "cell_type": "code",
   "execution_count": 55,
   "id": "7519b782",
   "metadata": {
    "ExecuteTime": {
     "end_time": "2021-11-17T01:42:21.537003Z",
     "start_time": "2021-11-17T01:42:21.522806Z"
    }
   },
   "outputs": [
    {
     "data": {
      "text/plain": [
       "[('ubuntu', 'python'),\n",
       " 1,\n",
       " 'Hola',\n",
       " 'AyP',\n",
       " False,\n",
       " 20211116,\n",
       " 22,\n",
       " 'febrero',\n",
       " [1, 2, 3, 4, 5],\n",
       " 'spiderverse confirmado',\n",
       " 10.003]"
      ]
     },
     "execution_count": 55,
     "metadata": {},
     "output_type": "execute_result"
    }
   ],
   "source": [
    "lst"
   ]
  },
  {
   "cell_type": "code",
   "execution_count": 60,
   "id": "cebc3d03",
   "metadata": {
    "ExecuteTime": {
     "end_time": "2021-11-17T01:44:24.707357Z",
     "start_time": "2021-11-17T01:44:24.692557Z"
    }
   },
   "outputs": [
    {
     "data": {
      "text/plain": [
       "int"
      ]
     },
     "execution_count": 60,
     "metadata": {},
     "output_type": "execute_result"
    }
   ],
   "source": [
    "type(lst.index(22))"
   ]
  },
  {
   "cell_type": "code",
   "execution_count": 61,
   "id": "e0610174",
   "metadata": {
    "ExecuteTime": {
     "end_time": "2021-11-17T01:44:25.020284Z",
     "start_time": "2021-11-17T01:44:25.010287Z"
    }
   },
   "outputs": [
    {
     "data": {
      "text/plain": [
       "int"
      ]
     },
     "execution_count": 61,
     "metadata": {},
     "output_type": "execute_result"
    }
   ],
   "source": [
    "type(lst[lst.index(22)])"
   ]
  },
  {
   "cell_type": "code",
   "execution_count": 62,
   "id": "217bbf93",
   "metadata": {
    "ExecuteTime": {
     "end_time": "2021-11-17T01:44:25.315943Z",
     "start_time": "2021-11-17T01:44:25.297432Z"
    }
   },
   "outputs": [
    {
     "data": {
      "text/plain": [
       "float"
      ]
     },
     "execution_count": 62,
     "metadata": {},
     "output_type": "execute_result"
    }
   ],
   "source": [
    "type(lst[lst.index(10.003)])"
   ]
  },
  {
   "cell_type": "markdown",
   "id": "73e8626f",
   "metadata": {},
   "source": [
    "## "
   ]
  },
  {
   "cell_type": "markdown",
   "id": "91c557b3",
   "metadata": {},
   "source": [
    "Define un diccionario que tenga como llaves:\n",
    "\n",
    "- 'ID'\n",
    "- 'NOMBRE'\n",
    "- 'SEMESTRE'\n",
    "- 'MATERIA'\n",
    "- 'CALIFICACIÓN'\n",
    "\n",
    "y como valores:\n",
    "\n",
    "- 315163847\n",
    "- 'RODOLFO CRUZ FUENTES'\n",
    "- '6to SEMESTRE'\n",
    "- 'ANÁLISIS MULTIVARIADO'\n",
    "- 10\n",
    "\n",
    "y guardalo en una variable que lleve por nombre 'dic'"
   ]
  },
  {
   "cell_type": "code",
   "execution_count": 63,
   "id": "da157347",
   "metadata": {
    "ExecuteTime": {
     "end_time": "2021-11-17T02:09:34.174990Z",
     "start_time": "2021-11-17T02:09:34.172001Z"
    }
   },
   "outputs": [],
   "source": [
    "dic = {'ID':315163847,\n",
    " 'NOMBRE':'RODOLFO CRUZ FUENTES',\n",
    " 'SEMESTRE':'6to SEMESTRE',\n",
    " 'MATERIA':'ANÁLISIS MULTIVARIADO',\n",
    "'CALIFICACIÓN':10}"
   ]
  },
  {
   "cell_type": "code",
   "execution_count": 64,
   "id": "c8a571a0",
   "metadata": {
    "ExecuteTime": {
     "end_time": "2021-11-17T02:09:37.305279Z",
     "start_time": "2021-11-17T02:09:37.289161Z"
    }
   },
   "outputs": [
    {
     "data": {
      "text/plain": [
       "{'ID': 315163847,\n",
       " 'NOMBRE': 'RODOLFO CRUZ FUENTES',\n",
       " 'SEMESTRE': '6to SEMESTRE',\n",
       " 'MATERIA': 'ANÁLISIS MULTIVARIADO',\n",
       " 'CALIFICACIÓN': 10}"
      ]
     },
     "execution_count": 64,
     "metadata": {},
     "output_type": "execute_result"
    }
   ],
   "source": [
    "dic"
   ]
  },
  {
   "cell_type": "markdown",
   "id": "a42c119f",
   "metadata": {},
   "source": [
    "# Condicionales if , elif y else"
   ]
  },
  {
   "cell_type": "code",
   "execution_count": null,
   "id": "405973a5",
   "metadata": {},
   "outputs": [],
   "source": []
  },
  {
   "cell_type": "code",
   "execution_count": null,
   "id": "8c3ac031",
   "metadata": {},
   "outputs": [],
   "source": []
  },
  {
   "cell_type": "code",
   "execution_count": null,
   "id": "35e03653",
   "metadata": {},
   "outputs": [],
   "source": []
  },
  {
   "cell_type": "code",
   "execution_count": null,
   "id": "d2058fec",
   "metadata": {},
   "outputs": [],
   "source": []
  },
  {
   "cell_type": "code",
   "execution_count": null,
   "id": "81431a05",
   "metadata": {},
   "outputs": [],
   "source": []
  },
  {
   "cell_type": "code",
   "execution_count": null,
   "id": "cfe884fb",
   "metadata": {},
   "outputs": [],
   "source": []
  },
  {
   "cell_type": "code",
   "execution_count": null,
   "id": "43f05a38",
   "metadata": {},
   "outputs": [],
   "source": []
  },
  {
   "cell_type": "code",
   "execution_count": null,
   "id": "52b8821c",
   "metadata": {},
   "outputs": [],
   "source": []
  },
  {
   "cell_type": "code",
   "execution_count": null,
   "id": "ca88d7b8",
   "metadata": {},
   "outputs": [],
   "source": []
  }
 ],
 "metadata": {
  "kernelspec": {
   "display_name": "ayp",
   "language": "python",
   "name": "ayp"
  },
  "language_info": {
   "codemirror_mode": {
    "name": "ipython",
    "version": 3
   },
   "file_extension": ".py",
   "mimetype": "text/x-python",
   "name": "python",
   "nbconvert_exporter": "python",
   "pygments_lexer": "ipython3",
   "version": "3.8.10"
  },
  "toc": {
   "base_numbering": 1,
   "nav_menu": {},
   "number_sections": true,
   "sideBar": true,
   "skip_h1_title": false,
   "title_cell": "Table of Contents",
   "title_sidebar": "Contents",
   "toc_cell": false,
   "toc_position": {},
   "toc_section_display": true,
   "toc_window_display": true
  }
 },
 "nbformat": 4,
 "nbformat_minor": 5
}
