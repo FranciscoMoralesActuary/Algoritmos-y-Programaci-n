{
 "cells": [
  {
   "cell_type": "markdown",
   "id": "1e7c6254",
   "metadata": {},
   "source": [
    "PROMEDIO DE 3 NÚMEROS"
   ]
  },
  {
   "cell_type": "code",
   "execution_count": 1,
   "id": "968ad0a1",
   "metadata": {},
   "outputs": [
    {
     "name": "stdout",
     "output_type": "stream",
     "text": [
      "Escribe el primer numero: \n",
      "7.8\n",
      "\n",
      "\n",
      "Escribe el segundo numero: \n",
      "6.2\n",
      "\n",
      "\n",
      "Escribe el tercer numero: \n",
      "8\n",
      "\n",
      "\n",
      "El promedio de los 3 numeros es 7.333333333333333\n"
     ]
    }
   ],
   "source": [
    "print(\"Escribe el primer numero: \")\n",
    "num1= float(input()) \n",
    "print(\"\\n\")\n",
    "print(\"Escribe el segundo numero: \")\n",
    "num2= float(input())\n",
    "print(\"\\n\")\n",
    "print(\"Escribe el tercer numero: \")\n",
    "num3= float(input())\n",
    "print(\"\\n\")\n",
    "pro=(num1+num2+num3)/3\n",
    "print(\"El promedio de los 3 numeros es\",pro)"
   ]
  },
  {
   "cell_type": "markdown",
   "id": "80047bb1",
   "metadata": {},
   "source": [
    "ESPERANZA DE VIDA"
   ]
  },
  {
   "cell_type": "code",
   "execution_count": 4,
   "id": "2d91ab90",
   "metadata": {},
   "outputs": [
    {
     "name": "stdout",
     "output_type": "stream",
     "text": [
      "Escriba su sexo por favor\n",
      "Escriba 1 si es hombre o 2 si es mujer\n",
      "1\n",
      "\n",
      "\n",
      "Usted es hombre\n",
      "Su esperanza de vida es 65 años\n"
     ]
    }
   ],
   "source": [
    "print (\"Escriba su sexo por favor\")\n",
    "print (\"Escriba 1 si es hombre o 2 si es mujer\")\n",
    "sexo=int(input())\n",
    "print(\"\\n\")\n",
    "while sexo!=1 and sexo!=2:\n",
    "    print(\"Usted ingreso una opcion invalida, por favor intenta de nuevo\")\n",
    "    print(\"Escriba 1 si es hombre o 2 si es mujer\")\n",
    "    sexo=int(input())\n",
    "if sexo==1:\n",
    "    print(\"Usted es hombre\")\n",
    "    print(\"Su esperanza de vida es 65 años\")\n",
    "elif sexo==2:\n",
    "    print(\"Usted es mujer\")\n",
    "    print(\"Su esperanza de vida es 75 años\")\n",
    "else:\n",
    "    print(\"Usted ingreso una opcion invalida\")\n",
    "    print(\"Intente de nuevo por favor\")\n",
    "    "
   ]
  },
  {
   "cell_type": "markdown",
   "id": "d8992961",
   "metadata": {},
   "source": [
    "INTERVALOS DE EDAD QUE TE DICE SI ERES NIÑO, JOVEN …"
   ]
  },
  {
   "cell_type": "code",
   "execution_count": 9,
   "id": "a2fcd03c",
   "metadata": {},
   "outputs": [
    {
     "name": "stdout",
     "output_type": "stream",
     "text": [
      "Ingrese el numero del caso, en el que se encuentre su edad\n",
      "Escriba 1 si su edad se encuentra entre mas de 40 y los 50 años\n",
      "Escriba 2 si su edad se encuentra entre mas de 50 y los 60 años\n",
      "Escriba 3 si su edad se encuentra entre mas de 60 y los 70 años\n",
      "Escriba 4 si su edad se encuentra entre mas de 70 y los 80 años\n",
      "1\n",
      "\n",
      "\n",
      "Usted es un joven adulto\n"
     ]
    }
   ],
   "source": [
    "print(\"Ingrese el numero del caso, en el que se encuentre su edad\")\n",
    "print(\"Escriba 1 si su edad se encuentra entre mas de 40 y los 50 años\")\n",
    "print(\"Escriba 2 si su edad se encuentra entre mas de 50 y los 60 años\")\n",
    "print(\"Escriba 3 si su edad se encuentra entre mas de 60 y los 70 años\")\n",
    "print(\"Escriba 4 si su edad se encuentra entre mas de 70 y los 80 años\")\n",
    "edad=int(input())\n",
    "print(\"\\n\")\n",
    "while edad!=1 and edad!=2 and edad!=3 and edad!=4:\n",
    "    print(\"Usted ingreso una opcion invalida, por favor intenta de nuevo\")\n",
    "    print(\"Ingrese el numero del caso, en el que se encuentre su edad\")\n",
    "    edad=int(input())\n",
    "    \n",
    "if edad==1:\n",
    "    print(\"Usted es un joven adulto\")\n",
    "    \n",
    "elif edad==2:\n",
    "    print(\"Usted es un adulto\")\n",
    "\n",
    "elif edad==3:\n",
    "    print(\"Usted es un adulto mayor\")\n",
    "    \n",
    "elif edad==4:\n",
    "    print(\"Usted es una persona mayor\")\n",
    "    \n",
    "else:\n",
    "    print(\"Usted ingreso una opcion invalida\")\n",
    "    print(\"Intente de nuevo por favor\")"
   ]
  },
  {
   "cell_type": "markdown",
   "id": "04708364",
   "metadata": {},
   "source": [
    "CALIFICACIÓN: APROBADO O REPROBADO"
   ]
  },
  {
   "cell_type": "code",
   "execution_count": 13,
   "id": "8975b1a1",
   "metadata": {},
   "outputs": [
    {
     "name": "stdout",
     "output_type": "stream",
     "text": [
      "Ingrese su nombre por favor\n",
      "Francisco\n",
      "Ingrese su calificacion por favor\n",
      "6\n",
      "Felicidades Francisco esta aprobado\n"
     ]
    }
   ],
   "source": [
    "print(\"Ingrese su nombre por favor\")\n",
    "nom=input()\n",
    "print(\"Ingrese su calificacion por favor\")\n",
    "calif=float(input())\n",
    "while calif<0 or calif>10:\n",
    "    print(\"Usted ingreso una calificacion invalida, por favor intenta de nuevo\")\n",
    "    print(\"Ingrese su calificacion por favor\")\n",
    "    calif=float(input())\n",
    "if calif>=6 and calif<=10:\n",
    "    print(\"Felicidades\",nom, \"esta aprobado\")\n",
    "elif calif>=0 and calif<6:\n",
    "    print (\"Esta reprobado\",nom)"
   ]
  },
  {
   "cell_type": "markdown",
   "id": "346e76cc",
   "metadata": {},
   "source": [
    "MENÚ DE FIGURAS"
   ]
  },
  {
   "cell_type": "code",
   "execution_count": 24,
   "id": "a773fb46",
   "metadata": {},
   "outputs": [
    {
     "name": "stdout",
     "output_type": "stream",
     "text": [
      "Ingrese el numero del caso, que contenga el area que quiere calcular\n",
      "Escriba 1 si quiere calcular el area del circulo\n",
      "Escriba 2 si quiere calcular el area del cuadrado\n",
      "Escriba 3 si quiere calcular el area del triangulo\n",
      "3\n",
      "\n",
      "\n",
      "Selecciono area del triangulo\n",
      "Ingrese el valor de la base del triangulo\n",
      "58\n",
      "Ingrese el valor de la altura del triangulo\n",
      "14\n",
      "El area del triangulo es 406.0\n"
     ]
    }
   ],
   "source": [
    "print(\"Ingrese el numero del caso, que contenga el area que quiere calcular\")\n",
    "print(\"Escriba 1 si quiere calcular el area del circulo\")\n",
    "print(\"Escriba 2 si quiere calcular el area del cuadrado\")\n",
    "print(\"Escriba 3 si quiere calcular el area del triangulo\")\n",
    "areaele=int(input())\n",
    "print(\"\\n\")\n",
    "while areaele!=1 and areaele!=2 and areaele!=3:\n",
    "    print(\"Usted ingreso una opcion invalida, por favor intenta de nuevo\")\n",
    "    print(\"Ingrese el numero del caso, que contenga el area que quiere calcular\")\n",
    "    areaele=int(input())\n",
    "\n",
    "if areaele==1:\n",
    "    print(\"Selecciono area del circulo\")\n",
    "    print(\"Ingrese el valor del radio del circulo\")\n",
    "    radio=float(input())\n",
    "    while radio<=0:\n",
    "        print(\"Ha ingresado un radio invalido. Recuerde que no existen areas de numeros negativos o del 0\")\n",
    "        print(\"Por favor ingrese valor valido para el radio\")\n",
    "        radio=float(input())\n",
    "    area=(radio**2)*(3.1416)\n",
    "    print (\"El area del circulo es\",area)\n",
    "    \n",
    "elif areaele==2:\n",
    "    print(\"Selecciono area del cuadrado\")\n",
    "    print(\"Ingrese el valor del lado del cuadrado\")\n",
    "    lado=float(input())\n",
    "    while lado<=0:\n",
    "        print(\"Ha ingresado un lado invalido. Recuerde que no existen areas de numeros negativos o del 0\")\n",
    "        print(\"Por favor ingrese valor valido para el lado\")\n",
    "        lado=float(input())\n",
    "    area=(lado**2)\n",
    "    print (\"El area del cuadrado es\",area)\n",
    "    \n",
    "elif areaele==3:\n",
    "    print(\"Selecciono area del triangulo\")\n",
    "    print(\"Ingrese el valor de la base del triangulo\")\n",
    "    base=float(input())\n",
    "    while base<=0:\n",
    "        print(\"Ha ingresado una base invalida. Recuerde que no existen areas de numeros negativos o del 0\")\n",
    "        print(\"Por favor ingrese valor valido para la base\")\n",
    "        base=float(input())\n",
    "    print(\"Ingrese el valor de la altura del triangulo\")\n",
    "    altura=float(input())\n",
    "    while altura<=0:\n",
    "        print(\"Ha ingresado una altura invalida. Recuerde que no existen areas de numeros negativos o del 0\")\n",
    "        print(\"Por favor ingrese valor valido para la altura\")\n",
    "        altura=float(input())\n",
    "    area=(altura)*(base)*0.5\n",
    "    print (\"El area del triangulo es\",area)\n",
    "       \n",
    "else:\n",
    "    print(\"Usted ingreso una opcion invalida\")\n",
    "    print(\"Intente de nuevo por favor\")\n"
   ]
  }
 ],
 "metadata": {
  "kernelspec": {
   "display_name": "Python 3 (ipykernel)",
   "language": "python",
   "name": "python3"
  },
  "language_info": {
   "codemirror_mode": {
    "name": "ipython",
    "version": 3
   },
   "file_extension": ".py",
   "mimetype": "text/x-python",
   "name": "python",
   "nbconvert_exporter": "python",
   "pygments_lexer": "ipython3",
   "version": "3.8.10"
  }
 },
 "nbformat": 4,
 "nbformat_minor": 5
}
